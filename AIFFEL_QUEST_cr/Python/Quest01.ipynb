{
  "nbformat": 4,
  "nbformat_minor": 0,
  "metadata": {
    "colab": {
      "provenance": [],
      "authorship_tag": "ABX9TyMJL1ljoaPLTdtiDiyFwtBW",
      "include_colab_link": true
    },
    "kernelspec": {
      "name": "python3",
      "display_name": "Python 3"
    },
    "language_info": {
      "name": "python"
    }
  },
  "cells": [
    {
      "cell_type": "markdown",
      "metadata": {
        "id": "view-in-github",
        "colab_type": "text"
      },
      "source": [
        "<a href=\"https://colab.research.google.com/github/AI-rephyx/AIFFEL_QUEST_cr/blob/master/AIFFEL_QUEST_cr/Python/Quest01.ipynb\" target=\"_parent\"><img src=\"https://colab.research.google.com/assets/colab-badge.svg\" alt=\"Open In Colab\"/></a>"
      ]
    },
    {
      "cell_type": "code",
      "source": [
        "print('hello world!')"
      ],
      "metadata": {
        "colab": {
          "base_uri": "https://localhost:8080/"
        },
        "id": "QGFalpfCK_sc",
        "outputId": "77a1e626-1618-4531-b788-b672bb093f45"
      },
      "execution_count": null,
      "outputs": [
        {
          "output_type": "stream",
          "name": "stdout",
          "text": [
            "hello world!\n"
          ]
        }
      ]
    },
    {
      "cell_type": "code",
      "source": [
        "# 정의\n",
        "def check(input_value):\n",
        "\n",
        "# 입력값을 반대로 뒤집기\n",
        "  reversed_value = input_value[::-1]\n",
        "\n",
        "# 일치 불일치 여부에 따른 회문 여부 출력\n",
        "  if input_value == reversed_value:\n",
        "    print(\"회문입니다.\")\n",
        "  else :\n",
        "    print(\"회문이 아닙니다.\")\n",
        "\n",
        "# 코드 실행\n",
        "check(\"우영우\")"
      ],
      "metadata": {
        "colab": {
          "base_uri": "https://localhost:8080/"
        },
        "id": "l6Qw9ey0OhnV",
        "outputId": "a462c0d1-3f38-4ced-a672-3059d3b416cd"
      },
      "execution_count": 3,
      "outputs": [
        {
          "output_type": "stream",
          "name": "stdout",
          "text": [
            "회문입니다.\n"
          ]
        }
      ]
    },
    {
      "cell_type": "markdown",
      "source": [
        "위와 같이 작성할 경우, 입력란이 없는 문제 발생"
      ],
      "metadata": {
        "id": "XKQ3pQV723sD"
      }
    },
    {
      "cell_type": "code",
      "source": [
        "# 정의\n",
        "def check(input_value):\n",
        "\n",
        "# 입력값\n",
        "  input_value = input()\n",
        "\n",
        "# 입력값 반대로 뒤집기\n",
        "  reversed_value = input_value[::-1]\n",
        "\n",
        "# 일치 불일치 여부에 따른 회문 여부 출력\n",
        "  if input_value == reversed_value:\n",
        "    print(\"회문입니다.\")\n",
        "  else :\n",
        "    print(\"회문이 아닙니다.\")\n",
        "\n",
        "# 코드 실행\n",
        "check(\"\")"
      ],
      "metadata": {
        "colab": {
          "base_uri": "https://localhost:8080/"
        },
        "id": "X9cdvYnQLqHB",
        "outputId": "7d3b2b05-3e30-4177-e149-963a61e12c5e"
      },
      "execution_count": 5,
      "outputs": [
        {
          "output_type": "stream",
          "name": "stdout",
          "text": [
            "짱구는 못말려\n",
            "회문이 아닙니다.\n"
          ]
        }
      ]
    },
    {
      "cell_type": "markdown",
      "source": [
        "input_value = input()를 추가하여 입력란 추가"
      ],
      "metadata": {
        "id": "EvKeUEwf3lH0"
      }
    },
    {
      "cell_type": "code",
      "source": [
        "# 정의\n",
        "def check_palindrome():\n",
        "\n",
        "# 입력값 리스트\n",
        "    x = list(input())\n",
        "    print(x)\n",
        "\n",
        "# 입력 리스트를 뒤집어 나열\n",
        "    y = x[::-1]\n",
        "    print(y)\n",
        "\n",
        "# x와 y를 비교하여 회문 여부 출력\n",
        "    if x == y:\n",
        "        print(\"회문입니다.\")\n",
        "    else:\n",
        "        print(\"회문이 아닙니다.\")\n",
        "\n",
        "# 코드 실행\n",
        "check_palindrome()"
      ],
      "metadata": {
        "colab": {
          "base_uri": "https://localhost:8080/"
        },
        "id": "hKBNcHglS3-I",
        "outputId": "a0459cc5-a50d-4898-882f-5615086b4d76"
      },
      "execution_count": 6,
      "outputs": [
        {
          "output_type": "stream",
          "name": "stdout",
          "text": [
            "수험생이 만화책을 보다니요\n",
            "['수', '험', '생', '이', ' ', '만', '화', '책', '을', ' ', '보', '다', '니', '요']\n",
            "['요', '니', '다', '보', ' ', '을', '책', '화', '만', ' ', '이', '생', '험', '수']\n",
            "회문이 아닙니다.\n"
          ]
        }
      ]
    },
    {
      "cell_type": "markdown",
      "source": [
        "list 명령어를 이용하여 입력값의 각 글자를 추출하고 그것을 반대로 나열한 것과 비교하는 방법으로 회문 여부 판단할 수 있도록 코드 작성"
      ],
      "metadata": {
        "id": "B1Cr9KY03q0v"
      }
    },
    {
      "cell_type": "code",
      "source": [
        "def check_palindrome():\n",
        "    x = list(input(\"\"))\n",
        "    print(x)\n",
        "\n",
        "    is_palindrome = True\n",
        "    for i in range(len(x) // 2):\n",
        "        if x[i] != x[len(x) - 1 - i]:\n",
        "            is_palindrome = False\n",
        "            break\n",
        "\n",
        "    if is_palindrome:\n",
        "        print(\"회문입니다.\")\n",
        "    else:\n",
        "        print(\"회문이 아닙니다.\")\n",
        "\n",
        "check_palindrome()"
      ],
      "metadata": {
        "colab": {
          "base_uri": "https://localhost:8080/"
        },
        "id": "nHaJOvOnWtLh",
        "outputId": "6c38defe-b004-4834-a027-f2a7ecb85340"
      },
      "execution_count": null,
      "outputs": [
        {
          "output_type": "stream",
          "name": "stdout",
          "text": [
            "우영우\n",
            "['우', '영', '우']\n",
            "회문입니다.\n"
          ]
        }
      ]
    },
    {
      "cell_type": "markdown",
      "source": [
        "len과 range를 이용하여 코드를 짜는 경우를 AI에게 물어보았음\n",
        "아직 이해가 100% 되지 않음 추후 다시 학습해야 할 것 같음"
      ],
      "metadata": {
        "id": "0FviRYPB4hu3"
      }
    }
  ]
}