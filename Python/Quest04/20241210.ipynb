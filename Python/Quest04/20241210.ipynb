{
  "nbformat": 4,
  "nbformat_minor": 0,
  "metadata": {
    "colab": {
      "provenance": [],
      "authorship_tag": "ABX9TyOR726w/aH9ExQrkKE94cDN",
      "include_colab_link": true
    },
    "kernelspec": {
      "name": "python3",
      "display_name": "Python 3"
    },
    "language_info": {
      "name": "python"
    }
  },
  "cells": [
    {
      "cell_type": "markdown",
      "metadata": {
        "id": "view-in-github",
        "colab_type": "text"
      },
      "source": [
        "<a href=\"https://colab.research.google.com/github/AI-rephyx/AIFFEL_QUEST_cr/blob/master/Python/Quest04/20241210.ipynb\" target=\"_parent\"><img src=\"https://colab.research.google.com/assets/colab-badge.svg\" alt=\"Open In Colab\"/></a>"
      ]
    },
    {
      "cell_type": "code",
      "execution_count": null,
      "metadata": {
        "id": "vOG4Nd-mJLCU"
      },
      "outputs": [],
      "source": []
    },
    {
      "cell_type": "code",
      "source": [
        "## math 모듈 사용\n",
        "import math as m\n",
        "\n",
        "## 숫자 입력\n",
        "def number(prompt):\n",
        "    while True:\n",
        "        try:\n",
        "            return float(input(prompt))\n",
        "        except ValueError:\n",
        "            print(\"잘못된 입력입니다. 정수를 입력해주세요.\")\n",
        "\n",
        "## 연산자 입력\n",
        "def operators():\n",
        "    valid_operators = {\"+\", \"-\", \"*\", \"/\", \"**\"}\n",
        "    while True:\n",
        "        operator = input(\"사용할 수 있는 연산자 (더하기(+), 빼기(-), 곱하기(*), 나누기(/), 거듭재곱(**)): \")\n",
        "        if operator in valid_operators:\n",
        "            return operator\n",
        "        else:\n",
        "            print(f\"지원하지 않는 연산자입니다. 다시 입력해주세요.\")\n",
        "\n",
        "## 연산\n",
        "def cal():\n",
        "    while True:\n",
        "        try:\n",
        "            print(\"\\n계산을 시작합니다:\")\n",
        "            x = number(\"첫 번째 정수를 입력하세요: \")\n",
        "            operator = operators()\n",
        "\n",
        "            ## 두번째 숫자 입력 시, 나누기 조건 걸기\n",
        "            while True:\n",
        "                try:\n",
        "                    y = number(\"두 번째 숫자를 입력하세요: \")\n",
        "                    if operator == \"/\" and y == 0:\n",
        "                        raise ZeroDivisionError(\"0으로 나눌 수 없습니다. 다시 입력해주세요.\")\n",
        "                    break  ## 유효한 y 값일 경우 반복문 탈출\n",
        "                except ZeroDivisionError as e:\n",
        "                    print(e)\n",
        "\n",
        "            # 연산 수행\n",
        "            if operator == \"+\":\n",
        "                result = x + y\n",
        "            elif operator == \"-\":\n",
        "                result = x - y\n",
        "            elif operator == \"*\":\n",
        "                result = x * y\n",
        "            elif operator == \"/\":\n",
        "                result = x / y\n",
        "            elif operator == \"**\":\n",
        "                result = m.pow(x, y)\n",
        "            else:\n",
        "                raise ValueError(f\"지원하지 않는 연산자입니다.: {operator}\")\n",
        "\n",
        "## 예외처리\n",
        "        except ValueError:\n",
        "            print(\"잘못된 입력입니다. 정수\n",
        "            를 다시 입력해주세요.\")\n",
        "            continue\n",
        "        else:\n",
        "            print(f\"결과: {x} {operator} {y} = {result}\")\n",
        "        finally:\n",
        "            print(\"계산이 완료되었습니다.\")\n",
        "\n",
        "        while True:\n",
        "            again = input(\"계속 계산하시겠습니까? (y/n): \").lower() ## 대문자 입력시에도 소문자로 변경하여 처리\n",
        "            if again == \"y\":\n",
        "                break\n",
        "            elif again == \"n\":\n",
        "                print(\"계산기를 종료합니다.\")\n",
        "                return\n",
        "            else:\n",
        "                print(\"잘못된 입력입니다. 계속 계산하시려면 y, 종료하시려면 n을 입력해주세요.\")\n",
        "\n",
        "# 계산기 실행\n",
        "cal()"
      ],
      "metadata": {
        "colab": {
          "base_uri": "https://localhost:8080/"
        },
        "id": "3QAZKx6cJw91",
        "outputId": "cd50277b-eca6-454b-d70c-cec6edb8068c"
      },
      "execution_count": 49,
      "outputs": [
        {
          "output_type": "stream",
          "name": "stdout",
          "text": [
            "\n",
            "계산을 시작합니다:\n",
            "첫 번째 정수를 입력하세요: 1\n",
            "사용할 수 있는 연산자 (더하기(+), 빼기(-), 곱하기(*), 나누기(/), 거듭재곱(**)): +\n",
            "두 번째 숫자를 입력하세요: 2\n",
            "결과: 1.0 + 2.0 = 3.0\n",
            "계산이 완료되었습니다.\n",
            "계속 계산하시겠습니까? (y/n): Y\n",
            "\n",
            "계산을 시작합니다:\n",
            "첫 번째 정수를 입력하세요: 1\n",
            "사용할 수 있는 연산자 (더하기(+), 빼기(-), 곱하기(*), 나누기(/), 거듭재곱(**)): /\n",
            "두 번째 숫자를 입력하세요: 0\n",
            "0으로 나눌 수 없습니다. 다시 입력해주세요.\n",
            "두 번째 숫자를 입력하세요: 2\n",
            "결과: 1.0 / 2.0 = 0.5\n",
            "계산이 완료되었습니다.\n",
            "계속 계산하시겠습니까? (y/n): n\n",
            "계산기를 종료합니다.\n"
          ]
        }
      ]
    },
    {
      "cell_type": "code",
      "source": [],
      "metadata": {
        "id": "gG6GMYxgh-dI"
      },
      "execution_count": null,
      "outputs": []
    }
  ]
}